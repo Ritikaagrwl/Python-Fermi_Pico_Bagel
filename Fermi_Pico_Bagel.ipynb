{
 "cells": [
  {
   "cell_type": "code",
   "execution_count": 4,
   "metadata": {},
   "outputs": [
    {
     "name": "stdout",
     "output_type": "stream",
     "text": [
      "Enter 3 digit number\n",
      "  Fermi\n",
      "  Fermi\n",
      "Enter 3 digit number\n",
      "Duplicate number\n",
      "Duplicate number\n",
      "  Fermi\n",
      "  Fermi Fermi\n",
      "  Fermi Fermi\n",
      "  Pico\n",
      "  Pico Fermi\n",
      "  Pico Fermi Pico\n",
      "  Pico Fermi Pico\n",
      "Fermi Fermi Fermi You won!\n"
     ]
    }
   ],
   "source": [
    "original_number = '102'\n",
    "\n",
    "while True:\n",
    "    output = []\n",
    "    guess_number = str(input(\"\\nGuess the number:\"))\n",
    "\n",
    "    if len(guess_number) != len(original_number):\n",
    "        print(f\"Enter {len(original_number)} digit number\")\n",
    "        continue\n",
    "    \n",
    "    if len(guess_number) != len(set(guess_number)):\n",
    "        print(\"Duplicate number\")\n",
    "        continue\n",
    "    \n",
    "    if original_number == guess_number:\n",
    "        print(\"Fermi \" * len(original_number) + \"You won!\")\n",
    "        break\n",
    "    \n",
    "    for i in range(len(original_number)):\n",
    "        for j in range(len(guess_number)):\n",
    "            if original_number[i] == guess_number[j]:\n",
    "                if i == j:\n",
    "                    output.append(\"Fermi\")\n",
    "                else:\n",
    "                    output.append(\"Pico\")\n",
    "                    \n",
    "    output_string = \" \"\n",
    "    for i in output:\n",
    "        output_string += \" \" + i\n",
    "        print(output_string)\n",
    "        \n",
    "    if len(output) == 0:\n",
    "        print(\"Bagel\")\n",
    "    else:\n",
    "        print(output_string)"
   ]
  },
  {
   "cell_type": "code",
   "execution_count": null,
   "metadata": {},
   "outputs": [],
   "source": []
  },
  {
   "cell_type": "code",
   "execution_count": null,
   "metadata": {},
   "outputs": [],
   "source": []
  }
 ],
 "metadata": {
  "kernelspec": {
   "display_name": "Python 3",
   "language": "python",
   "name": "python3"
  },
  "language_info": {
   "codemirror_mode": {
    "name": "ipython",
    "version": 3
   },
   "file_extension": ".py",
   "mimetype": "text/x-python",
   "name": "python",
   "nbconvert_exporter": "python",
   "pygments_lexer": "ipython3",
   "version": "3.9.6"
  }
 },
 "nbformat": 4,
 "nbformat_minor": 2
}
